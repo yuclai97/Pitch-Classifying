{
  "nbformat": 4,
  "nbformat_minor": 0,
  "metadata": {
    "colab": {
      "provenance": [],
      "collapsed_sections": []
    },
    "kernelspec": {
      "name": "python3",
      "display_name": "Python 3"
    },
    "language_info": {
      "name": "python"
    }
  },
  "cells": [
    {
      "cell_type": "code",
      "execution_count": null,
      "metadata": {
        "id": "Jx3PBAClj4uQ"
      },
      "outputs": [],
      "source": [
        "%%capture\n",
        "%pip install pybaseball\n",
        "\n",
        "# General Packages\n",
        "import numpy as np\n",
        "import pandas as pd\n",
        "import pybaseball as pyb\n",
        "import seaborn as sns\n",
        "\n",
        "# Machine Learning\n",
        "from sklearn.model_selection import train_test_split\n",
        "from sklearn import tree\n",
        "from sklearn.metrics import accuracy_score\n",
        "from sklearn.metrics import classification_report\n",
        "from sklearn.ensemble import RandomForestClassifier\n",
        "from sklearn.cluster import KMeans\n",
        "from sklearn.svm import SVC\n",
        "import warnings\n",
        "warnings.filterwarnings('ignore')"
      ]
    },
    {
      "cell_type": "code",
      "source": [
        "pitches = pyb.statcast('2022-04-01', '2022-10-01')\n",
        "\n"
      ],
      "metadata": {
        "colab": {
          "base_uri": "https://localhost:8080/"
        },
        "id": "YfI_t2W3j8iq",
        "outputId": "9ee43c42-841b-4fba-a5ca-96b218ca2f08"
      },
      "execution_count": null,
      "outputs": [
        {
          "output_type": "stream",
          "name": "stdout",
          "text": [
            "This is a large query, it may take a moment to complete\n"
          ]
        },
        {
          "output_type": "stream",
          "name": "stderr",
          "text": [
            "100%|██████████| 184/184 [13:48<00:00,  4.50s/it]\n"
          ]
        }
      ]
    },
    {
      "cell_type": "markdown",
      "source": [
        "##Machine Learning"
      ],
      "metadata": {
        "id": "hZuJQ2J0JUvi"
      }
    },
    {
      "cell_type": "markdown",
      "source": [
        "###Decision Tree"
      ],
      "metadata": {
        "id": "e2Ym_m3eNdbf"
      }
    },
    {
      "cell_type": "code",
      "source": [
        "bieber_stats = pyb.statcast_pitcher('2022-04-01', '2022-10-01', 669456)\n",
        "\n",
        "print('Our Dataset has {0} Pitches'.format(len(bieber_stats)))"
      ],
      "metadata": {
        "colab": {
          "base_uri": "https://localhost:8080/"
        },
        "id": "Bm8wbQ-p6WjL",
        "outputId": "0323bf6f-c14a-41ad-8d04-60e4f13cdff8"
      },
      "execution_count": null,
      "outputs": [
        {
          "output_type": "stream",
          "name": "stdout",
          "text": [
            "Gathering Player Data\n",
            "Our Dataset has 2825 Pitches\n"
          ]
        }
      ]
    },
    {
      "cell_type": "code",
      "source": [
        "def decision_tree(data,fastball_group):\n",
        "    data = data.loc[:,['pitch_name',\n",
        "                       'release_speed',\n",
        "                       'release_spin_rate',\n",
        "                       'vx0','vy0','vz0',\n",
        "                       'ax','ay','az']]\n",
        "    \n",
        "    data = data.dropna()\n",
        "    \n",
        "    def pitch_filter(x):\n",
        "        if x=='2-Seam Fastball' or x=='4-Seam Fastball' or x=='Sinker':\n",
        "            return 'Fastball_group'\n",
        "        return x\n",
        "    \n",
        "    if fastball_group == True:\n",
        "        data['pitch_name'] = data['pitch_name'].apply(pitch_filter)\n",
        "    \n",
        "    X = data.loc[:,['release_speed','vx0','vy0','vz0','ax','ay','az','release_spin_rate']]\n",
        "    y = data.loc[:,['pitch_name']]\n",
        "    \n",
        "    X_train, X_test, y_train, y_test = train_test_split(X, y, test_size=0.2, random_state=8)\n",
        "    \n",
        "    dt_model = tree.DecisionTreeClassifier(max_depth=10, min_samples_split=50)\n",
        "    \n",
        "    dt_model.fit(X_train, y_train)\n",
        "    \n",
        "    predictions = dt_model.predict(X_train)\n",
        "    print('Training Score Accuracy {0}'.format(accuracy_score(predictions, y_train)))\n",
        "    \n",
        "    predictions = dt_model.predict(X_test)\n",
        "    print('Test Score Accuracy {0}'.format(accuracy_score(predictions, y_test)))\n",
        "    \n",
        "    print(classification_report(predictions, y_test))"
      ],
      "metadata": {
        "id": "Twk19Vjhkb3v"
      },
      "execution_count": null,
      "outputs": []
    },
    {
      "cell_type": "code",
      "source": [
        "decision_tree(bieber_stats, fastball_group = False)"
      ],
      "metadata": {
        "colab": {
          "base_uri": "https://localhost:8080/"
        },
        "id": "qz0QhqWKkxWG",
        "outputId": "ebb7831e-aeaf-432a-b0f9-0d93ed6d4d70"
      },
      "execution_count": null,
      "outputs": [
        {
          "output_type": "stream",
          "name": "stdout",
          "text": [
            "Training Score Accuracy 0.9619686800894854\n",
            "Test Score Accuracy 0.9481216457960644\n",
            "                 precision    recall  f1-score   support\n",
            "\n",
            "4-Seam Fastball       0.99      1.00      0.99       194\n",
            "       Changeup       1.00      0.75      0.86        12\n",
            "         Cutter       0.85      0.86      0.86        86\n",
            "  Knuckle Curve       0.99      0.99      0.99       111\n",
            "         Slider       0.92      0.92      0.92       156\n",
            "\n",
            "       accuracy                           0.95       559\n",
            "      macro avg       0.95      0.90      0.92       559\n",
            "   weighted avg       0.95      0.95      0.95       559\n",
            "\n"
          ]
        }
      ]
    },
    {
      "cell_type": "code",
      "source": [
        "# Data = Bieber in 2022\n",
        "# Treat Four-Seam, Two-Seam, and Sinker as a general fastball\n",
        "\n",
        "decision_tree(bieber_stats, fastball_group = True)"
      ],
      "metadata": {
        "colab": {
          "base_uri": "https://localhost:8080/"
        },
        "id": "fzPExCE2k0KW",
        "outputId": "c20a8073-3e03-4949-c1cf-2cb46984c2f4"
      },
      "execution_count": null,
      "outputs": [
        {
          "output_type": "stream",
          "name": "stdout",
          "text": [
            "Training Score Accuracy 0.9619686800894854\n",
            "Test Score Accuracy 0.9481216457960644\n",
            "                precision    recall  f1-score   support\n",
            "\n",
            "      Changeup       1.00      0.75      0.86        12\n",
            "        Cutter       0.85      0.86      0.86        86\n",
            "Fastball_group       0.99      1.00      0.99       194\n",
            " Knuckle Curve       0.99      0.99      0.99       111\n",
            "        Slider       0.92      0.92      0.92       156\n",
            "\n",
            "      accuracy                           0.95       559\n",
            "     macro avg       0.95      0.90      0.92       559\n",
            "  weighted avg       0.95      0.95      0.95       559\n",
            "\n"
          ]
        }
      ]
    },
    {
      "cell_type": "markdown",
      "source": [
        "###Random Foest\n"
      ],
      "metadata": {
        "id": "S8oWd42Rcth9"
      }
    },
    {
      "cell_type": "code",
      "source": [
        "from sklearn.preprocessing import LabelEncoder\n",
        "def random_forest(data,fastball_group):\n",
        "    data = data.loc[:,['pitch_name',\n",
        "                       'release_speed',\n",
        "                       'release_spin_rate',\n",
        "                       'vx0','vy0','vz0',\n",
        "                       'ax','ay','az']]\n",
        "    \n",
        "    data = data.dropna()\n",
        "    \n",
        "    def pitch_filter(x):\n",
        "        if x=='2-Seam Fastball' or x=='4-Seam Fastball' or x=='Sinker':\n",
        "            return 'Fastball_group'\n",
        "        return x\n",
        "    \n",
        "    if fastball_group == True:\n",
        "        data['pitch_name'] = data['pitch_name'].apply(pitch_filter)\n",
        "    \n",
        "    X = data.loc[:,['release_speed','vx0','vy0','vz0','ax','ay','az','release_spin_rate']]\n",
        "    y = data.loc[:,['pitch_name']]\n",
        "    \n",
        "    X_train, X_test, y_train, y_test = train_test_split(X, y, test_size=0.3, random_state=8)\n",
        "    \n",
        "    dt_model = RandomForestClassifier(max_depth=10, min_samples_split=50)\n",
        "    \n",
        "    dt_model.fit(X_train, y_train)\n",
        "    \n",
        "    predictions = dt_model.predict(X_train)\n",
        "    print('Training Score Accuracy {0}'.format(accuracy_score(predictions, y_train)))\n",
        "    \n",
        "    predictions = dt_model.predict(X_test)\n",
        "    print('Test Score Accuracy {0}'.format(accuracy_score(predictions, y_test)))\n",
        "    \n",
        "    print(classification_report(predictions, y_test))"
      ],
      "metadata": {
        "id": "sMYAGsp4cl2t"
      },
      "execution_count": null,
      "outputs": []
    },
    {
      "cell_type": "code",
      "source": [
        "random_forest(bieber_stats, fastball_group = False)"
      ],
      "metadata": {
        "colab": {
          "base_uri": "https://localhost:8080/"
        },
        "id": "xWNMwgTxlmuz",
        "outputId": "65eba385-08bd-4993-d7ea-14b3978901e0"
      },
      "execution_count": null,
      "outputs": [
        {
          "output_type": "stream",
          "name": "stdout",
          "text": [
            "Training Score Accuracy 0.959079283887468\n",
            "Test Score Accuracy 0.964243146603099\n",
            "                 precision    recall  f1-score   support\n",
            "\n",
            "4-Seam Fastball       1.00      1.00      1.00       304\n",
            "       Changeup       1.00      0.95      0.97        19\n",
            "         Cutter       0.91      0.89      0.90       144\n",
            "  Knuckle Curve       1.00      0.99      1.00       158\n",
            "         Slider       0.92      0.94      0.93       214\n",
            "\n",
            "       accuracy                           0.96       839\n",
            "      macro avg       0.97      0.95      0.96       839\n",
            "   weighted avg       0.96      0.96      0.96       839\n",
            "\n"
          ]
        }
      ]
    },
    {
      "cell_type": "code",
      "source": [
        "random_forest(bieber_stats, fastball_group = True)"
      ],
      "metadata": {
        "colab": {
          "base_uri": "https://localhost:8080/"
        },
        "id": "ZV0kT1EVfVG3",
        "outputId": "1e843109-025c-4a04-987d-1a9692881e0f"
      },
      "execution_count": null,
      "outputs": [
        {
          "output_type": "stream",
          "name": "stdout",
          "text": [
            "Training Score Accuracy 0.9616368286445013\n",
            "Test Score Accuracy 0.9630512514898689\n",
            "                precision    recall  f1-score   support\n",
            "\n",
            "      Changeup       0.94      0.94      0.94        18\n",
            "        Cutter       0.91      0.89      0.90       144\n",
            "Fastball_group       1.00      1.00      1.00       305\n",
            " Knuckle Curve       1.00      0.99      1.00       158\n",
            "        Slider       0.92      0.94      0.93       214\n",
            "\n",
            "      accuracy                           0.96       839\n",
            "     macro avg       0.96      0.95      0.95       839\n",
            "  weighted avg       0.96      0.96      0.96       839\n",
            "\n"
          ]
        }
      ]
    },
    {
      "cell_type": "markdown",
      "source": [
        "###SVC"
      ],
      "metadata": {
        "id": "5PsROOLfkhR7"
      }
    },
    {
      "cell_type": "code",
      "source": [
        "def svc(data,fastball_group):\n",
        "    data = data.loc[:,['pitch_name',\n",
        "                       'release_speed',\n",
        "                       'release_spin_rate',\n",
        "                       'vx0','vy0','vz0',\n",
        "                       'ax','ay','az']]\n",
        "    \n",
        "    data = data.dropna()\n",
        "    \n",
        "    def pitch_filter(x):\n",
        "        if x=='2-Seam Fastball' or x=='4-Seam Fastball' or x=='Sinker':\n",
        "            return 'Fastball_group'\n",
        "        return x\n",
        "    \n",
        "    if fastball_group == True:\n",
        "        data['pitch_name'] = data['pitch_name'].apply(pitch_filter)\n",
        "    \n",
        "    X = data.loc[:,['release_speed','vx0','vy0','vz0','ax','ay','az','release_spin_rate']]\n",
        "    y = data.loc[:,['pitch_name']]\n",
        "    \n",
        "    \n",
        "    X_train, X_test, y_train, y_test = train_test_split(X, y, test_size=0.2, random_state=8)\n",
        "    \n",
        "    dt_model = SVC(degree=3)\n",
        "    \n",
        "    dt_model.fit(X_train, y_train)\n",
        "    \n",
        "    predictions = dt_model.predict(X_train)\n",
        "    print('Training Score Accuracy {0}'.format(accuracy_score(predictions, y_train)))\n",
        "    \n",
        "    predictions = dt_model.predict(X_test)\n",
        "    print('Test Score Accuracy {0}'.format(accuracy_score(predictions, y_test)))\n",
        "    \n",
        "    print(classification_report(predictions, y_test))"
      ],
      "metadata": {
        "id": "Pz2q_pN_kjUT"
      },
      "execution_count": null,
      "outputs": []
    },
    {
      "cell_type": "code",
      "source": [
        "svc(bieber_stats, fastball_group=False)"
      ],
      "metadata": {
        "colab": {
          "base_uri": "https://localhost:8080/"
        },
        "id": "71u7tMBBlfgz",
        "outputId": "596ca4e9-3f9e-4509-971d-62bf61291850"
      },
      "execution_count": null,
      "outputs": [
        {
          "output_type": "stream",
          "name": "stdout",
          "text": [
            "Training Score Accuracy 0.636241610738255\n",
            "Test Score Accuracy 0.6225402504472272\n",
            "                 precision    recall  f1-score   support\n",
            "\n",
            "4-Seam Fastball       0.97      0.63      0.77       300\n",
            "       Changeup       0.78      0.78      0.78         9\n",
            "         Cutter       0.00      0.00      0.00         0\n",
            "  Knuckle Curve       0.00      0.00      0.00         0\n",
            "         Slider       0.97      0.60      0.74       250\n",
            "\n",
            "       accuracy                           0.62       559\n",
            "      macro avg       0.54      0.40      0.46       559\n",
            "   weighted avg       0.97      0.62      0.76       559\n",
            "\n"
          ]
        }
      ]
    },
    {
      "cell_type": "code",
      "source": [
        "svc(bieber_stats, fastball_group=True)"
      ],
      "metadata": {
        "colab": {
          "base_uri": "https://localhost:8080/"
        },
        "id": "kRD22HPEkuPb",
        "outputId": "04bfd7ab-bc6d-486d-ccf2-d9fcd994d4d7"
      },
      "execution_count": null,
      "outputs": [
        {
          "output_type": "stream",
          "name": "stdout",
          "text": [
            "Training Score Accuracy 0.6371364653243848\n",
            "Test Score Accuracy 0.6261180679785331\n",
            "                precision    recall  f1-score   support\n",
            "\n",
            "      Changeup       1.00      0.82      0.90        11\n",
            "        Cutter       0.00      0.00      0.00         0\n",
            "Fastball_group       0.97      0.64      0.77       298\n",
            " Knuckle Curve       0.00      0.00      0.00         0\n",
            "        Slider       0.97      0.60      0.74       250\n",
            "\n",
            "      accuracy                           0.63       559\n",
            "     macro avg       0.59      0.41      0.48       559\n",
            "  weighted avg       0.97      0.63      0.76       559\n",
            "\n"
          ]
        }
      ]
    }
  ]
}